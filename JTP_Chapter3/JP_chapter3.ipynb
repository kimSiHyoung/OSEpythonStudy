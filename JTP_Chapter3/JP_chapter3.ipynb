{
  "nbformat": 4,
  "nbformat_minor": 0,
  "metadata": {
    "colab": {
      "name": "JP_chapter3.ipynb",
      "provenance": [],
      "collapsed_sections": []
    },
    "kernelspec": {
      "name": "python3",
      "display_name": "Python 3"
    },
    "language_info": {
      "name": "python"
    }
  },
  "cells": [
    {
      "cell_type": "markdown",
      "source": [
        "# Q1 \n",
        "answer : shirt"
      ],
      "metadata": {
        "id": "n29T2Nkk_G0d"
      }
    },
    {
      "cell_type": "markdown",
      "source": [
        "# Q2"
      ],
      "metadata": {
        "id": "i-GFj8PQ_NQS"
      }
    },
    {
      "cell_type": "code",
      "execution_count": null,
      "metadata": {
        "colab": {
          "base_uri": "https://localhost:8080/"
        },
        "id": "Ge0lV7eI_DIg",
        "outputId": "30db70a4-0f7f-412c-9172-50c339bcd45e"
      },
      "outputs": [
        {
          "output_type": "stream",
          "name": "stdout",
          "text": [
            "166833\n"
          ]
        }
      ],
      "source": [
        "num = 0\n",
        "sumNum = 0\n",
        "while num < 1000:\n",
        "    num += 1\n",
        "    if num % 3 == 0:\n",
        "        sumNum += num\n",
        "\n",
        "print(sumNum)"
      ]
    },
    {
      "cell_type": "markdown",
      "source": [
        "# Q3"
      ],
      "metadata": {
        "id": "ymsuWjY3_mSZ"
      }
    },
    {
      "cell_type": "code",
      "source": [
        "col = 0\n",
        "while col < 5:\n",
        "    col += 1\n",
        "    for i in range(col):\n",
        "        print('*', end=\"\")\n",
        "    print('')\n",
        "\n",
        "\n",
        "    "
      ],
      "metadata": {
        "id": "ZVnprep__n3j"
      },
      "execution_count": null,
      "outputs": []
    },
    {
      "cell_type": "markdown",
      "source": [
        "# Q4"
      ],
      "metadata": {
        "id": "FzR_Y9xsIhRR"
      }
    },
    {
      "cell_type": "code",
      "source": [
        "i = [i for i in range(1, 101)]\n",
        "print(i)"
      ],
      "metadata": {
        "colab": {
          "base_uri": "https://localhost:8080/"
        },
        "id": "rlNCqXMhIjbR",
        "outputId": "fb324308-faf3-4861-c3c8-c8f30612458c"
      },
      "execution_count": 15,
      "outputs": [
        {
          "output_type": "stream",
          "name": "stdout",
          "text": [
            "[1, 2, 3, 4, 5, 6, 7, 8, 9, 10, 11, 12, 13, 14, 15, 16, 17, 18, 19, 20, 21, 22, 23, 24, 25, 26, 27, 28, 29, 30, 31, 32, 33, 34, 35, 36, 37, 38, 39, 40, 41, 42, 43, 44, 45, 46, 47, 48, 49, 50, 51, 52, 53, 54, 55, 56, 57, 58, 59, 60, 61, 62, 63, 64, 65, 66, 67, 68, 69, 70, 71, 72, 73, 74, 75, 76, 77, 78, 79, 80, 81, 82, 83, 84, 85, 86, 87, 88, 89, 90, 91, 92, 93, 94, 95, 96, 97, 98, 99, 100]\n"
          ]
        }
      ]
    },
    {
      "cell_type": "markdown",
      "source": [
        "# Q5"
      ],
      "metadata": {
        "id": "pAeNBd_9JxkQ"
      }
    },
    {
      "cell_type": "code",
      "source": [
        "A_student = [70, 60, 55, 75, 95, 90, 80, 80, 85, 100]\n",
        "scoreSum = 0\n",
        "for score in A_student:\n",
        "    scoreSum += score\n",
        "meanScore = scoreSum/len(A_student)\n",
        "print(meanScore)"
      ],
      "metadata": {
        "colab": {
          "base_uri": "https://localhost:8080/"
        },
        "id": "zQDl-C6_JHea",
        "outputId": "3e6565c2-4eba-47c1-aee9-74cd26f8a544"
      },
      "execution_count": 14,
      "outputs": [
        {
          "output_type": "stream",
          "name": "stdout",
          "text": [
            "79.0\n"
          ]
        }
      ]
    },
    {
      "cell_type": "markdown",
      "source": [
        "# Q6"
      ],
      "metadata": {
        "id": "U1oIpEHsKSUS"
      }
    },
    {
      "cell_type": "code",
      "source": [
        "numbers = [1, 2, 3, 4, 5]\n",
        "result = [n*2 for n in numbers if n % 2 == 1]\n",
        "\n",
        "print(result)"
      ],
      "metadata": {
        "colab": {
          "base_uri": "https://localhost:8080/"
        },
        "id": "s3h67rKNJtw6",
        "outputId": "cedca9dd-e6a2-4cc5-e441-36dc2b2d030d"
      },
      "execution_count": 13,
      "outputs": [
        {
          "output_type": "stream",
          "name": "stdout",
          "text": [
            "[2, 6, 10]\n"
          ]
        }
      ]
    }
  ]
}