{
  "nbformat": 4,
  "nbformat_minor": 0,
  "metadata": {
    "colab": {
      "name": "chapter3_exercise.ipynb",
      "provenance": [],
      "collapsed_sections": []
    },
    "kernelspec": {
      "name": "python3",
      "display_name": "Python 3"
    },
    "language_info": {
      "name": "python"
    }
  },
  "cells": [
    {
      "cell_type": "markdown",
      "source": [
        "**Q1 다음 코드의 결과값은 무엇일까?**"
      ],
      "metadata": {
        "id": "MMOV2w-Xj2j8"
      }
    },
    {
      "cell_type": "code",
      "execution_count": 2,
      "metadata": {
        "colab": {
          "base_uri": "https://localhost:8080/"
        },
        "id": "02YZ40lfja0v",
        "outputId": "c375baea-81c6-461f-fa13-6f32dc1e5e61"
      },
      "outputs": [
        {
          "output_type": "stream",
          "name": "stdout",
          "text": [
            "shirt\n"
          ]
        }
      ],
      "source": [
        "a = \"Life is too short, you need python\"\n",
        "if \"wife\" in a: print(\"wife\")\n",
        "elif \"python\" in a and \"you\" not in a: print(\"python\")\n",
        "elif \"shirt\" not in a: print(\"shirt\")\n",
        "elif \"need\" in a: print(\"need\")\n",
        "else: print(\"none\")"
      ]
    },
    {
      "cell_type": "markdown",
      "source": [
        "**shirt 가 문장안에 없으므로 shirt 를 출력한다.**"
      ],
      "metadata": {
        "id": "21_DtLClkCXT"
      }
    },
    {
      "cell_type": "markdown",
      "source": [
        "**Q2 while문을 사용해 1부터 1000까지의 자연수 중 3의 배수의 합을 구해 보자.**"
      ],
      "metadata": {
        "id": "84QEJKkZj1Nb"
      }
    },
    {
      "cell_type": "code",
      "source": [
        "Sum = []\n",
        "N = 1\n",
        "while N <= 1000:\n",
        "    if N % 3 == 0:\n",
        "        Sum.append(N)\n",
        "    N += 1\n",
        "print(sum(Sum))"
      ],
      "metadata": {
        "colab": {
          "base_uri": "https://localhost:8080/"
        },
        "id": "KF1biLgHkH7W",
        "outputId": "b4d61471-215a-4d10-97ad-4b1d4ba780e2"
      },
      "execution_count": 3,
      "outputs": [
        {
          "output_type": "stream",
          "name": "stdout",
          "text": [
            "166833\n"
          ]
        }
      ]
    },
    {
      "cell_type": "markdown",
      "source": [
        "**Q3 while문을 사용하여 다음과 같이 별(*)을 표시하는 프로그램을 작성해 보자.**"
      ],
      "metadata": {
        "id": "PpyCJ9kJkKmS"
      }
    },
    {
      "cell_type": "code",
      "source": [
        "a = 0\n",
        "while a < 5:\n",
        "    a += 1\n",
        "    print('*' * a) # 문자열 곱하기"
      ],
      "metadata": {
        "colab": {
          "base_uri": "https://localhost:8080/"
        },
        "id": "GhgwabTDkPfx",
        "outputId": "aae436b6-143f-4f04-fc75-24baa69e6ebb"
      },
      "execution_count": 4,
      "outputs": [
        {
          "output_type": "stream",
          "name": "stdout",
          "text": [
            "*\n",
            "**\n",
            "***\n",
            "****\n",
            "*****\n"
          ]
        }
      ]
    },
    {
      "cell_type": "markdown",
      "source": [
        "**Q4 for문을 사용해 1부터 100까지의 숫자를 출력해 보자.**"
      ],
      "metadata": {
        "id": "bDkhQhXOkT8g"
      }
    },
    {
      "cell_type": "code",
      "source": [
        "num = []\n",
        "for i in range(1,101):\n",
        "    num.append(i)\n",
        "    if len(num) == 100:\n",
        "        break\n",
        "print(num)"
      ],
      "metadata": {
        "colab": {
          "base_uri": "https://localhost:8080/"
        },
        "id": "PYZNerTFkV04",
        "outputId": "ea1a3044-b558-48c2-ae6f-b9af88119b26"
      },
      "execution_count": 5,
      "outputs": [
        {
          "output_type": "stream",
          "name": "stdout",
          "text": [
            "[1, 2, 3, 4, 5, 6, 7, 8, 9, 10, 11, 12, 13, 14, 15, 16, 17, 18, 19, 20, 21, 22, 23, 24, 25, 26, 27, 28, 29, 30, 31, 32, 33, 34, 35, 36, 37, 38, 39, 40, 41, 42, 43, 44, 45, 46, 47, 48, 49, 50, 51, 52, 53, 54, 55, 56, 57, 58, 59, 60, 61, 62, 63, 64, 65, 66, 67, 68, 69, 70, 71, 72, 73, 74, 75, 76, 77, 78, 79, 80, 81, 82, 83, 84, 85, 86, 87, 88, 89, 90, 91, 92, 93, 94, 95, 96, 97, 98, 99, 100]\n"
          ]
        }
      ]
    },
    {
      "cell_type": "markdown",
      "source": [
        "**Q5 A 학급에 총 10명의 학생이 있다.**\n",
        "**for문을 사용하여 A 학급의 평균 점수를 구해 보자.**"
      ],
      "metadata": {
        "id": "OFtSeaTekZLa"
      }
    },
    {
      "cell_type": "code",
      "source": [
        "A = [70, 60, 55, 75, 95, 90, 80, 80, 85, 100]\n",
        "Sum = 0\n",
        "for i in range(len(A)):\n",
        "    Sum += A[i]\n",
        "Avg = Sum / len(A)\n",
        "print(Avg)"
      ],
      "metadata": {
        "colab": {
          "base_uri": "https://localhost:8080/"
        },
        "id": "Y33OiB3hkY2Y",
        "outputId": "8066aac8-5fe7-40c6-ead7-cd787aee9db2"
      },
      "execution_count": 6,
      "outputs": [
        {
          "output_type": "stream",
          "name": "stdout",
          "text": [
            "79.0\n"
          ]
        }
      ]
    },
    {
      "cell_type": "markdown",
      "source": [
        "**Q6 리스트 중에서 홀수에만 2를 곱하여 저장하는 다음 코드가 있다.**"
      ],
      "metadata": {
        "id": "LArmb7atk4Lm"
      }
    },
    {
      "cell_type": "code",
      "source": [
        "numbers = [1, 2, 3, 4, 5]\n",
        "result = []\n",
        "for n in numbers:\n",
        "    if n % 2 == 1:\n",
        "        result.append(n*2)"
      ],
      "metadata": {
        "id": "pYaRyNg8lCc3"
      },
      "execution_count": 8,
      "outputs": []
    },
    {
      "cell_type": "markdown",
      "source": [
        "**위 코드를 리스트 내포(list comprehension)를 사용하여 표현해 보자.**"
      ],
      "metadata": {
        "id": "dGyXupxSlFAP"
      }
    },
    {
      "cell_type": "code",
      "source": [
        "numbers = [1, 2, 3, 4, 5]\n",
        "result = [n*2 for n in numbers if n % 2 == 1]\n",
        "print(result)"
      ],
      "metadata": {
        "colab": {
          "base_uri": "https://localhost:8080/"
        },
        "id": "y932io52k9YS",
        "outputId": "a296fb0f-04c0-4c1a-a130-af62bd62c357"
      },
      "execution_count": 7,
      "outputs": [
        {
          "output_type": "stream",
          "name": "stdout",
          "text": [
            "[2, 6, 10]\n"
          ]
        }
      ]
    }
  ]
}