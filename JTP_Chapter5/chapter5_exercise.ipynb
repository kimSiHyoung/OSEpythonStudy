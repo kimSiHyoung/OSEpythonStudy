{
  "nbformat": 4,
  "nbformat_minor": 0,
  "metadata": {
    "colab": {
      "name": "chapter5_exercise.ipynb",
      "provenance": [],
      "collapsed_sections": []
    },
    "kernelspec": {
      "name": "python3",
      "display_name": "Python 3"
    },
    "language_info": {
      "name": "python"
    }
  },
  "cells": [
    {
      "cell_type": "markdown",
      "source": [
        "**Q1 다음은 Calculator 클래스이다.**\n",
        "\n",
        "```\n",
        "class Calculator:\n",
        "    def __init__(self):\n",
        "        self.value = 0\n",
        "\n",
        "    def add(self, val):\n",
        "        self.value += val\n",
        "```\n",
        "\n",
        "\n",
        "**위 클래스를 상속하는 UpgradeCalculator를 만들고 값을 뺄 수 있는 minus 메서드를 추가해 보자. 즉 다음과 같이 동작하는 클래스를 만들어야 한다.**\n",
        "\n",
        "```\n",
        "cal = UpgradeCalculator()\n",
        "cal.add(10)\n",
        "cal.minus(7)\n",
        "\n",
        "print(cal.value) # 10에서 7을 뺀 3을 출력\n",
        "```"
      ],
      "metadata": {
        "id": "6RLyvTaLSJlo"
      }
    },
    {
      "cell_type": "code",
      "execution_count": 4,
      "metadata": {
        "id": "sVZGQNSvSEgE"
      },
      "outputs": [],
      "source": [
        "class Calculator:\n",
        "    def __init__(self):\n",
        "        self.value = 0\n",
        "\n",
        "    def add(self, val):\n",
        "        self.value += val\n",
        "\n",
        "class UpgradeCalculator(Calculator):\n",
        "    def minus(self, val):\n",
        "        self.value -= val"
      ]
    },
    {
      "cell_type": "code",
      "source": [
        "cal = UpgradeCalculator()\n",
        "cal.add(10)\n",
        "cal.minus(7)\n",
        "\n",
        "print(cal.value) # 10에서 7을 뺀 3을 출력"
      ],
      "metadata": {
        "colab": {
          "base_uri": "https://localhost:8080/"
        },
        "id": "KqKoCEKETOZn",
        "outputId": "f96477a2-356e-4e36-f037-fecd29832a55"
      },
      "execution_count": 5,
      "outputs": [
        {
          "output_type": "stream",
          "name": "stdout",
          "text": [
            "3\n"
          ]
        }
      ]
    },
    {
      "cell_type": "markdown",
      "source": [
        "**Q2 객체변수 value가 100 이상의 값은 가질 수 없도록 제한하는 MaxLimitCalculator 클래스를 만들어 보자. 즉 다음과 같이 동작해야 한다.**\n",
        "\n",
        "```\n",
        "cal = MaxLimitCalculator()\n",
        "cal.add(50) # 50 더하기\n",
        "cal.add(60) # 60 더하기\n",
        "\n",
        "print(cal.value) # 100 출력\n",
        "```\n",
        "**단 반드시 다음과 같은 Calculator 클래스를 상속해서 만들어야 한다.**\n",
        "```\n",
        "class Calculator:\n",
        "    def __init__(self):\n",
        "        self.value = 0\n",
        "\n",
        "    def add(self, val):\n",
        "        self.value += val\n",
        "```"
      ],
      "metadata": {
        "id": "FrrKcC3vTQnO"
      }
    },
    {
      "cell_type": "code",
      "source": [
        "class Calculator:\n",
        "    def __init__(self):\n",
        "        self.value = 0\n",
        "\n",
        "    def add(self, val):\n",
        "        self.value += val\n",
        "\n",
        "class MaxLimitCalculator(Calculator):\n",
        "    def add(self, val):\n",
        "        self.value += val\n",
        "        if self.value > 100:\n",
        "            self.value = 100"
      ],
      "metadata": {
        "id": "3HS4tQoRTfQR"
      },
      "execution_count": 6,
      "outputs": []
    },
    {
      "cell_type": "code",
      "source": [
        "cal = MaxLimitCalculator()\n",
        "cal.add(50) # 50 더하기\n",
        "cal.add(60) # 60 더하기\n",
        "\n",
        "print(cal.value) # 100 출력"
      ],
      "metadata": {
        "colab": {
          "base_uri": "https://localhost:8080/"
        },
        "id": "w186QMpYUfHP",
        "outputId": "273d3f32-c07a-4065-920d-365c567d2938"
      },
      "execution_count": 7,
      "outputs": [
        {
          "output_type": "stream",
          "name": "stdout",
          "text": [
            "100\n"
          ]
        }
      ]
    },
    {
      "cell_type": "markdown",
      "source": [
        "**Q3 다음 결과를 예측해 보자.**\n",
        "\n",
        "**하나.**\n",
        "```\n",
        ">>> all([1, 2, abs(-3)-3])\n",
        "False # abs(-3)-3 은 0 이므로 False\n",
        "```\n",
        "**둘.**\n",
        "```\n",
        ">>> chr(ord('a')) == 'a'\n",
        "True # ord('a') 는 'a'의 유니코드 값 97을 돌려주고 다시 그 값을 통해 97에 해당하는 문자를 출력한다.\n",
        "```"
      ],
      "metadata": {
        "id": "f8VkBsDoUhBi"
      }
    },
    {
      "cell_type": "markdown",
      "source": [
        "**Q4 filter와 lambda를 사용하여 리스트 [1, -2, 3, -5, 8, -3]에서 음수를 모두 제거해 보자.**"
      ],
      "metadata": {
        "id": "bldvux5PdHcY"
      }
    },
    {
      "cell_type": "code",
      "source": [
        "list(filter(lambda a : a > 0, [1,-2,3,-5,8,-3]))"
      ],
      "metadata": {
        "colab": {
          "base_uri": "https://localhost:8080/"
        },
        "id": "umilg66UdGZM",
        "outputId": "5114e0a7-f679-4132-e3e6-15501a9d913c"
      },
      "execution_count": 8,
      "outputs": [
        {
          "output_type": "execute_result",
          "data": {
            "text/plain": [
              "[1, 3, 8]"
            ]
          },
          "metadata": {},
          "execution_count": 8
        }
      ]
    },
    {
      "cell_type": "markdown",
      "source": [
        "**Q5 234라는 10진수의 16진수는 다음과 같이 구할 수 있다.**\n",
        "```\n",
        ">>> hex(234)\n",
        "'0xea'\n",
        "```\n",
        "**이번에는 반대로 16진수 문자열 0xea를 10진수로 변경해 보자.**\n",
        "> ※ 내장 함수 int를 활용해 보자."
      ],
      "metadata": {
        "id": "K-_eUyOIdOaG"
      }
    },
    {
      "cell_type": "code",
      "source": [
        "int('0xea', 16)"
      ],
      "metadata": {
        "colab": {
          "base_uri": "https://localhost:8080/"
        },
        "id": "jD1lE16Ydclc",
        "outputId": "23838baf-371a-4b16-9f2c-11a23c978e98"
      },
      "execution_count": 9,
      "outputs": [
        {
          "output_type": "execute_result",
          "data": {
            "text/plain": [
              "234"
            ]
          },
          "metadata": {},
          "execution_count": 9
        }
      ]
    },
    {
      "cell_type": "markdown",
      "source": [
        "**Q6 map과 lambda를 사용하여 [1, 2, 3, 4] 리스트의 각 요솟값에 3이 곱해진 리스트 [3, 6, 9, 12]를 만들어 보자.**"
      ],
      "metadata": {
        "id": "4VE0luk9dduo"
      }
    },
    {
      "cell_type": "code",
      "source": [
        "list(map(lambda a : a*3, [1,2,3,4]))"
      ],
      "metadata": {
        "colab": {
          "base_uri": "https://localhost:8080/"
        },
        "id": "fu_q7pMXdiKY",
        "outputId": "0702e72f-ad25-40d9-8210-cf0b97fd0848"
      },
      "execution_count": 10,
      "outputs": [
        {
          "output_type": "execute_result",
          "data": {
            "text/plain": [
              "[3, 6, 9, 12]"
            ]
          },
          "metadata": {},
          "execution_count": 10
        }
      ]
    },
    {
      "cell_type": "markdown",
      "source": [
        "**Q7 다음 리스트의 최댓값과 최솟값의 합을 구해 보자.**\n",
        "```\n",
        "[-8, 2, 7, 5, -3, 5, 0, 1]\n",
        "```"
      ],
      "metadata": {
        "id": "JTy2Jfi3dqe2"
      }
    },
    {
      "cell_type": "code",
      "source": [
        "l = [-8, 2, 7, 5, -3, 5, 0, 1]\n",
        "max(l)+min(l)"
      ],
      "metadata": {
        "colab": {
          "base_uri": "https://localhost:8080/"
        },
        "id": "0_tI5L_Ldwbc",
        "outputId": "08bf3063-05ea-4ca5-a094-6c02e0ad19d6"
      },
      "execution_count": 11,
      "outputs": [
        {
          "output_type": "execute_result",
          "data": {
            "text/plain": [
              "-1"
            ]
          },
          "metadata": {},
          "execution_count": 11
        }
      ]
    },
    {
      "cell_type": "markdown",
      "source": [
        "**Q8 17 / 3의 결과는 다음과 같다.**\n",
        "```\n",
        ">>> 17 / 3\n",
        "5.666666666666667\n",
        "```\n",
        "**위와 같은 결괏값 5.666666666666667을 소숫점 4자리까지만 반올림하여 표시해 보자.**"
      ],
      "metadata": {
        "id": "2FEtBiW2dw6S"
      }
    },
    {
      "cell_type": "code",
      "source": [
        "round(17/3, 4)"
      ],
      "metadata": {
        "colab": {
          "base_uri": "https://localhost:8080/"
        },
        "id": "7Hvc3RP-d3iM",
        "outputId": "c0678726-64aa-4a92-95ef-ac3c1a0ac621"
      },
      "execution_count": 12,
      "outputs": [
        {
          "output_type": "execute_result",
          "data": {
            "text/plain": [
              "5.6667"
            ]
          },
          "metadata": {},
          "execution_count": 12
        }
      ]
    },
    {
      "cell_type": "markdown",
      "source": [
        "**Q9 다음과 같이 실행할 때 입력값을 모두 더하여 출력하는 스크립트(C:\\doit\\myargv.py)를 작성해 보자.**\n",
        "```\n",
        "C:\\> cd doit\n",
        "C:\\doit> python myargv.py 1 2 3 4 5 6 7 8 9 10\n",
        "55\n",
        "```\n",
        "> ※ 외장 함수 sys.argv를 사용해 보자."
      ],
      "metadata": {
        "id": "7-CTlMAxd5P8"
      }
    },
    {
      "cell_type": "markdown",
      "source": [
        "**답**\n",
        "```\n",
        "import sys\n",
        "\n",
        "N = sys.argv[:]\n",
        "Nsum = 0\n",
        "for i in N:\n",
        "  Nsum += i\n",
        "print(Nsum)\n",
        "```"
      ],
      "metadata": {
        "id": "eSejM9jkxVCb"
      }
    },
    {
      "cell_type": "markdown",
      "source": [
        "**Q10 os 모듈을 사용하여 다음과 같이 동작하도록 코드를 작성해 보자.**\n",
        "\n",
        "1. C:\\doit 디렉터리로 이동한다.\n",
        "2. dir 명령을 실행하고 그 결과를 변수에 담는다.\n",
        "3. dir 명령의 결과를 출력한다."
      ],
      "metadata": {
        "id": "k0OCEGzad_qU"
      }
    },
    {
      "cell_type": "markdown",
      "source": [
        "**답**\n",
        "```\n",
        "import os\n",
        "os.chdir(\"C:\\doit\")\n",
        "A = os.popen(\"dir\")\n",
        "print(A.read())\n",
        "```"
      ],
      "metadata": {
        "id": "hSdUiF_xwEQw"
      }
    },
    {
      "cell_type": "markdown",
      "source": [
        "**Q11 glob 모듈을 사용하여 C:\\doit 디렉터리의 파일 중 확장자가 .py인 파일만 출력하는 프로그램을 작성해 보자.**"
      ],
      "metadata": {
        "id": "FO8eEk5SeEmI"
      }
    },
    {
      "cell_type": "markdown",
      "source": [
        "**답**\n",
        "```\n",
        "import glob\n",
        "\n",
        "glob.glob(C:\\doit\\*.py)\n",
        "```"
      ],
      "metadata": {
        "id": "i1Ndb3yEveP3"
      }
    },
    {
      "cell_type": "markdown",
      "source": [
        "**Q12 time 모듈을 사용하여 현재 날짜와 시간을 다음과 같은 형식으로 출력해 보자.**\n",
        "\n",
        "```\n",
        "2018/04/03 17:20:32\n",
        "```"
      ],
      "metadata": {
        "id": "Jrk84PjIeRoQ"
      }
    },
    {
      "cell_type": "code",
      "source": [
        "import time\n",
        "\n",
        "time.strftime('%Y/%m/%d %H:%M:%S', time.localtime(time.time()))"
      ],
      "metadata": {
        "id": "4vktHfZGeZuD",
        "colab": {
          "base_uri": "https://localhost:8080/",
          "height": 35
        },
        "outputId": "719a0a4d-76c6-421a-8cad-905f63909b4e"
      },
      "execution_count": 13,
      "outputs": [
        {
          "output_type": "execute_result",
          "data": {
            "text/plain": [
              "'2022/07/22 07:18:33'"
            ],
            "application/vnd.google.colaboratory.intrinsic+json": {
              "type": "string"
            }
          },
          "metadata": {},
          "execution_count": 13
        }
      ]
    },
    {
      "cell_type": "markdown",
      "source": [
        "**Q13 random 모듈을 사용하여 로또 번호(1~45 사이의 숫자 6개)를 생성해 보자(단 중복된 숫자가 있으면 안 됨).**"
      ],
      "metadata": {
        "id": "NgsF4L3deaNK"
      }
    },
    {
      "cell_type": "code",
      "source": [
        "import random\n",
        "\n",
        "num = []\n",
        "while len(num) < 6: # 숫자가 6개가 될때까지\n",
        "  n = random.randint(1,45)\n",
        "  if n in num: # 중복되는 숫자는 다시 한번 더\n",
        "    n = random.randint(1,45)\n",
        "  else: # 중복이 안된다면 추가\n",
        "    num.append(n)\n",
        "  \n",
        "print(num)"
      ],
      "metadata": {
        "colab": {
          "base_uri": "https://localhost:8080/"
        },
        "id": "PbsPn1wsec3s",
        "outputId": "b70bc179-72bb-46de-8688-22ea9f167dff"
      },
      "execution_count": 14,
      "outputs": [
        {
          "output_type": "stream",
          "name": "stdout",
          "text": [
            "[10, 8, 16, 2, 26, 39]\n"
          ]
        }
      ]
    }
  ]
}